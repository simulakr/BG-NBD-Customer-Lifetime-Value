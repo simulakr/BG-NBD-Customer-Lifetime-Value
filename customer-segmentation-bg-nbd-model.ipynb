{
 "cells": [
  {
   "cell_type": "markdown",
   "id": "8f92d1e5",
   "metadata": {
    "id": "v3P4B53V2wRO",
    "papermill": {
     "duration": 0.007072,
     "end_time": "2024-12-05T07:15:41.389704",
     "exception": false,
     "start_time": "2024-12-05T07:15:41.382632",
     "status": "completed"
    },
    "tags": []
   },
   "source": [
    "# Importing Libraries"
   ]
  },
  {
   "cell_type": "code",
   "execution_count": 1,
   "id": "ff71f2ab",
   "metadata": {
    "execution": {
     "iopub.execute_input": "2024-12-05T07:15:41.404212Z",
     "iopub.status.busy": "2024-12-05T07:15:41.403802Z",
     "iopub.status.idle": "2024-12-05T07:15:53.087722Z",
     "shell.execute_reply": "2024-12-05T07:15:53.086704Z"
    },
    "id": "3lgdi3vq02tQ",
    "outputId": "544f0204-888d-4b00-b25d-6bf74725582c",
    "papermill": {
     "duration": 11.693879,
     "end_time": "2024-12-05T07:15:53.090150",
     "exception": false,
     "start_time": "2024-12-05T07:15:41.396271",
     "status": "completed"
    },
    "tags": []
   },
   "outputs": [
    {
     "name": "stdout",
     "output_type": "stream",
     "text": [
      "Collecting lifetimes\r\n",
      "  Downloading Lifetimes-0.11.3-py3-none-any.whl.metadata (4.8 kB)\r\n",
      "Requirement already satisfied: numpy>=1.10.0 in /opt/conda/lib/python3.10/site-packages (from lifetimes) (1.26.4)\r\n",
      "Requirement already satisfied: scipy>=1.0.0 in /opt/conda/lib/python3.10/site-packages (from lifetimes) (1.14.1)\r\n",
      "Requirement already satisfied: pandas>=0.24.0 in /opt/conda/lib/python3.10/site-packages (from lifetimes) (2.2.3)\r\n",
      "Collecting autograd>=1.2.0 (from lifetimes)\r\n",
      "  Downloading autograd-1.7.0-py3-none-any.whl.metadata (7.5 kB)\r\n",
      "Requirement already satisfied: dill>=0.2.6 in /opt/conda/lib/python3.10/site-packages (from lifetimes) (0.3.8)\r\n",
      "Requirement already satisfied: python-dateutil>=2.8.2 in /opt/conda/lib/python3.10/site-packages (from pandas>=0.24.0->lifetimes) (2.9.0.post0)\r\n",
      "Requirement already satisfied: pytz>=2020.1 in /opt/conda/lib/python3.10/site-packages (from pandas>=0.24.0->lifetimes) (2024.1)\r\n",
      "Requirement already satisfied: tzdata>=2022.7 in /opt/conda/lib/python3.10/site-packages (from pandas>=0.24.0->lifetimes) (2024.1)\r\n",
      "Requirement already satisfied: six>=1.5 in /opt/conda/lib/python3.10/site-packages (from python-dateutil>=2.8.2->pandas>=0.24.0->lifetimes) (1.16.0)\r\n",
      "Downloading Lifetimes-0.11.3-py3-none-any.whl (584 kB)\r\n",
      "\u001b[2K   \u001b[90m━━━━━━━━━━━━━━━━━━━━━━━━━━━━━━━━━━━━━━━━\u001b[0m \u001b[32m584.2/584.2 kB\u001b[0m \u001b[31m10.1 MB/s\u001b[0m eta \u001b[36m0:00:00\u001b[0m\r\n",
      "\u001b[?25hDownloading autograd-1.7.0-py3-none-any.whl (52 kB)\r\n",
      "\u001b[2K   \u001b[90m━━━━━━━━━━━━━━━━━━━━━━━━━━━━━━━━━━━━━━━━\u001b[0m \u001b[32m52.5/52.5 kB\u001b[0m \u001b[31m3.1 MB/s\u001b[0m eta \u001b[36m0:00:00\u001b[0m\r\n",
      "\u001b[?25hInstalling collected packages: autograd, lifetimes\r\n",
      "Successfully installed autograd-1.7.0 lifetimes-0.11.3\r\n"
     ]
    }
   ],
   "source": [
    "!pip install lifetimes"
   ]
  },
  {
   "cell_type": "code",
   "execution_count": 2,
   "id": "d044ec90",
   "metadata": {
    "execution": {
     "iopub.execute_input": "2024-12-05T07:15:53.107423Z",
     "iopub.status.busy": "2024-12-05T07:15:53.107021Z",
     "iopub.status.idle": "2024-12-05T07:15:55.186497Z",
     "shell.execute_reply": "2024-12-05T07:15:55.185625Z"
    },
    "id": "rqJeVXHlyqqe",
    "papermill": {
     "duration": 2.090364,
     "end_time": "2024-12-05T07:15:55.188979",
     "exception": false,
     "start_time": "2024-12-05T07:15:53.098615",
     "status": "completed"
    },
    "tags": []
   },
   "outputs": [],
   "source": [
    "import datetime as dt\n",
    "import pandas as pd\n",
    "import matplotlib.pyplot as plt\n",
    "from lifetimes import BetaGeoFitter\n",
    "from lifetimes import GammaGammaFitter\n",
    "from lifetimes.plotting import plot_period_transactions\n",
    "\n",
    "pd.set_option('display.max_columns', None)\n",
    "pd.set_option('display.width', 500)\n",
    "pd.set_option('display.float_format', lambda x: '%.4f' % x)\n",
    "from sklearn.preprocessing import MinMaxScaler"
   ]
  },
  {
   "cell_type": "markdown",
   "id": "578857eb",
   "metadata": {
    "id": "QxB_tkd_22CK",
    "papermill": {
     "duration": 0.007143,
     "end_time": "2024-12-05T07:15:55.203835",
     "exception": false,
     "start_time": "2024-12-05T07:15:55.196692",
     "status": "completed"
    },
    "tags": []
   },
   "source": [
    "# Reading Dataset"
   ]
  },
  {
   "cell_type": "markdown",
   "id": "2569ce1c",
   "metadata": {
    "papermill": {
     "duration": 0.006731,
     "end_time": "2024-12-05T07:15:55.217946",
     "exception": false,
     "start_time": "2024-12-05T07:15:55.211215",
     "status": "completed"
    },
    "tags": []
   },
   "source": []
  },
  {
   "cell_type": "code",
   "execution_count": 3,
   "id": "b9c899c3",
   "metadata": {
    "execution": {
     "iopub.execute_input": "2024-12-05T07:15:55.233847Z",
     "iopub.status.busy": "2024-12-05T07:15:55.233324Z",
     "iopub.status.idle": "2024-12-05T07:15:57.938425Z",
     "shell.execute_reply": "2024-12-05T07:15:57.937294Z"
    },
    "id": "LqHibhLm2lcJ",
    "outputId": "076216c2-72fe-4ba0-aec6-e31d8f4c09a0",
    "papermill": {
     "duration": 2.716003,
     "end_time": "2024-12-05T07:15:57.941016",
     "exception": false,
     "start_time": "2024-12-05T07:15:55.225013",
     "status": "completed"
    },
    "tags": []
   },
   "outputs": [
    {
     "data": {
      "text/html": [
       "<div>\n",
       "<style scoped>\n",
       "    .dataframe tbody tr th:only-of-type {\n",
       "        vertical-align: middle;\n",
       "    }\n",
       "\n",
       "    .dataframe tbody tr th {\n",
       "        vertical-align: top;\n",
       "    }\n",
       "\n",
       "    .dataframe thead th {\n",
       "        text-align: right;\n",
       "    }\n",
       "</style>\n",
       "<table border=\"1\" class=\"dataframe\">\n",
       "  <thead>\n",
       "    <tr style=\"text-align: right;\">\n",
       "      <th></th>\n",
       "      <th>Invoice</th>\n",
       "      <th>StockCode</th>\n",
       "      <th>Description</th>\n",
       "      <th>Quantity</th>\n",
       "      <th>InvoiceDate</th>\n",
       "      <th>Price</th>\n",
       "      <th>Customer ID</th>\n",
       "      <th>Country</th>\n",
       "    </tr>\n",
       "  </thead>\n",
       "  <tbody>\n",
       "    <tr>\n",
       "      <th>1067366</th>\n",
       "      <td>581587</td>\n",
       "      <td>22899</td>\n",
       "      <td>CHILDREN'S APRON DOLLY GIRL</td>\n",
       "      <td>6</td>\n",
       "      <td>2011-12-09 12:50:00</td>\n",
       "      <td>2.1000</td>\n",
       "      <td>12680.0000</td>\n",
       "      <td>France</td>\n",
       "    </tr>\n",
       "    <tr>\n",
       "      <th>1067367</th>\n",
       "      <td>581587</td>\n",
       "      <td>23254</td>\n",
       "      <td>CHILDRENS CUTLERY DOLLY GIRL</td>\n",
       "      <td>4</td>\n",
       "      <td>2011-12-09 12:50:00</td>\n",
       "      <td>4.1500</td>\n",
       "      <td>12680.0000</td>\n",
       "      <td>France</td>\n",
       "    </tr>\n",
       "    <tr>\n",
       "      <th>1067368</th>\n",
       "      <td>581587</td>\n",
       "      <td>23255</td>\n",
       "      <td>CHILDRENS CUTLERY CIRCUS PARADE</td>\n",
       "      <td>4</td>\n",
       "      <td>2011-12-09 12:50:00</td>\n",
       "      <td>4.1500</td>\n",
       "      <td>12680.0000</td>\n",
       "      <td>France</td>\n",
       "    </tr>\n",
       "    <tr>\n",
       "      <th>1067369</th>\n",
       "      <td>581587</td>\n",
       "      <td>22138</td>\n",
       "      <td>BAKING SET 9 PIECE RETROSPOT</td>\n",
       "      <td>3</td>\n",
       "      <td>2011-12-09 12:50:00</td>\n",
       "      <td>4.9500</td>\n",
       "      <td>12680.0000</td>\n",
       "      <td>France</td>\n",
       "    </tr>\n",
       "    <tr>\n",
       "      <th>1067370</th>\n",
       "      <td>581587</td>\n",
       "      <td>POST</td>\n",
       "      <td>POSTAGE</td>\n",
       "      <td>1</td>\n",
       "      <td>2011-12-09 12:50:00</td>\n",
       "      <td>18.0000</td>\n",
       "      <td>12680.0000</td>\n",
       "      <td>France</td>\n",
       "    </tr>\n",
       "  </tbody>\n",
       "</table>\n",
       "</div>"
      ],
      "text/plain": [
       "        Invoice StockCode                      Description  Quantity          InvoiceDate   Price  Customer ID Country\n",
       "1067366  581587     22899     CHILDREN'S APRON DOLLY GIRL          6  2011-12-09 12:50:00  2.1000   12680.0000  France\n",
       "1067367  581587     23254    CHILDRENS CUTLERY DOLLY GIRL          4  2011-12-09 12:50:00  4.1500   12680.0000  France\n",
       "1067368  581587     23255  CHILDRENS CUTLERY CIRCUS PARADE         4  2011-12-09 12:50:00  4.1500   12680.0000  France\n",
       "1067369  581587     22138    BAKING SET 9 PIECE RETROSPOT          3  2011-12-09 12:50:00  4.9500   12680.0000  France\n",
       "1067370  581587      POST                          POSTAGE         1  2011-12-09 12:50:00 18.0000   12680.0000  France"
      ]
     },
     "execution_count": 3,
     "metadata": {},
     "output_type": "execute_result"
    }
   ],
   "source": [
    "df_ =pd.read_csv(\"/kaggle/input/online-retail-ii-uci/online_retail_II.csv\")\n",
    "df = df_.copy()\n",
    "df.tail()"
   ]
  },
  {
   "cell_type": "code",
   "execution_count": 4,
   "id": "7da7a428",
   "metadata": {
    "execution": {
     "iopub.execute_input": "2024-12-05T07:15:57.959499Z",
     "iopub.status.busy": "2024-12-05T07:15:57.959072Z",
     "iopub.status.idle": "2024-12-05T07:15:57.965809Z",
     "shell.execute_reply": "2024-12-05T07:15:57.964760Z"
    },
    "id": "Ze-px8Yd3iKo",
    "outputId": "6b770b0e-3a12-45d6-af4f-2ef65d0e66f6",
    "papermill": {
     "duration": 0.018097,
     "end_time": "2024-12-05T07:15:57.967982",
     "exception": false,
     "start_time": "2024-12-05T07:15:57.949885",
     "status": "completed"
    },
    "tags": []
   },
   "outputs": [
    {
     "data": {
      "text/plain": [
       "(1067371, 8)"
      ]
     },
     "execution_count": 4,
     "metadata": {},
     "output_type": "execute_result"
    }
   ],
   "source": [
    "df.shape"
   ]
  },
  {
   "cell_type": "code",
   "execution_count": 5,
   "id": "890210c1",
   "metadata": {
    "execution": {
     "iopub.execute_input": "2024-12-05T07:15:57.985913Z",
     "iopub.status.busy": "2024-12-05T07:15:57.984918Z",
     "iopub.status.idle": "2024-12-05T07:15:57.993315Z",
     "shell.execute_reply": "2024-12-05T07:15:57.991979Z"
    },
    "id": "SIDmrvIQ3kRY",
    "outputId": "8f6b1a8c-51b2-4323-d57f-bfe66a0a3be4",
    "papermill": {
     "duration": 0.01997,
     "end_time": "2024-12-05T07:15:57.995889",
     "exception": false,
     "start_time": "2024-12-05T07:15:57.975919",
     "status": "completed"
    },
    "tags": []
   },
   "outputs": [
    {
     "data": {
      "text/plain": [
       "Invoice         object\n",
       "StockCode       object\n",
       "Description     object\n",
       "Quantity         int64\n",
       "InvoiceDate     object\n",
       "Price          float64\n",
       "Customer ID    float64\n",
       "Country         object\n",
       "dtype: object"
      ]
     },
     "execution_count": 5,
     "metadata": {},
     "output_type": "execute_result"
    }
   ],
   "source": [
    "df.dtypes"
   ]
  },
  {
   "cell_type": "code",
   "execution_count": 6,
   "id": "15b85e09",
   "metadata": {
    "execution": {
     "iopub.execute_input": "2024-12-05T07:15:58.013700Z",
     "iopub.status.busy": "2024-12-05T07:15:58.013270Z",
     "iopub.status.idle": "2024-12-05T07:15:58.278365Z",
     "shell.execute_reply": "2024-12-05T07:15:58.276889Z"
    },
    "id": "lHTP5xIH3sDG",
    "outputId": "9a25f17a-c432-47cb-9c43-2f9a69cc0a13",
    "papermill": {
     "duration": 0.277512,
     "end_time": "2024-12-05T07:15:58.281538",
     "exception": false,
     "start_time": "2024-12-05T07:15:58.004026",
     "status": "completed"
    },
    "tags": []
   },
   "outputs": [
    {
     "data": {
      "text/plain": [
       "Invoice             0\n",
       "StockCode           0\n",
       "Description      4382\n",
       "Quantity            0\n",
       "InvoiceDate         0\n",
       "Price               0\n",
       "Customer ID    243007\n",
       "Country             0\n",
       "dtype: int64"
      ]
     },
     "execution_count": 6,
     "metadata": {},
     "output_type": "execute_result"
    }
   ],
   "source": [
    "df.isnull().sum()"
   ]
  },
  {
   "cell_type": "code",
   "execution_count": 7,
   "id": "3f92d95a",
   "metadata": {
    "execution": {
     "iopub.execute_input": "2024-12-05T07:15:58.302627Z",
     "iopub.status.busy": "2024-12-05T07:15:58.302207Z",
     "iopub.status.idle": "2024-12-05T07:15:58.464325Z",
     "shell.execute_reply": "2024-12-05T07:15:58.463134Z"
    },
    "id": "aqayiskQ3djl",
    "outputId": "e97c44e7-9880-46e2-db1e-2152b1f09093",
    "papermill": {
     "duration": 0.174361,
     "end_time": "2024-12-05T07:15:58.466504",
     "exception": false,
     "start_time": "2024-12-05T07:15:58.292143",
     "status": "completed"
    },
    "tags": []
   },
   "outputs": [
    {
     "data": {
      "text/html": [
       "<div>\n",
       "<style scoped>\n",
       "    .dataframe tbody tr th:only-of-type {\n",
       "        vertical-align: middle;\n",
       "    }\n",
       "\n",
       "    .dataframe tbody tr th {\n",
       "        vertical-align: top;\n",
       "    }\n",
       "\n",
       "    .dataframe thead th {\n",
       "        text-align: right;\n",
       "    }\n",
       "</style>\n",
       "<table border=\"1\" class=\"dataframe\">\n",
       "  <thead>\n",
       "    <tr style=\"text-align: right;\">\n",
       "      <th></th>\n",
       "      <th>count</th>\n",
       "      <th>mean</th>\n",
       "      <th>std</th>\n",
       "      <th>min</th>\n",
       "      <th>25%</th>\n",
       "      <th>50%</th>\n",
       "      <th>75%</th>\n",
       "      <th>max</th>\n",
       "    </tr>\n",
       "  </thead>\n",
       "  <tbody>\n",
       "    <tr>\n",
       "      <th>Quantity</th>\n",
       "      <td>1067371.0000</td>\n",
       "      <td>9.9389</td>\n",
       "      <td>172.7058</td>\n",
       "      <td>-80995.0000</td>\n",
       "      <td>1.0000</td>\n",
       "      <td>3.0000</td>\n",
       "      <td>10.0000</td>\n",
       "      <td>80995.0000</td>\n",
       "    </tr>\n",
       "    <tr>\n",
       "      <th>Price</th>\n",
       "      <td>1067371.0000</td>\n",
       "      <td>4.6494</td>\n",
       "      <td>123.5531</td>\n",
       "      <td>-53594.3600</td>\n",
       "      <td>1.2500</td>\n",
       "      <td>2.1000</td>\n",
       "      <td>4.1500</td>\n",
       "      <td>38970.0000</td>\n",
       "    </tr>\n",
       "    <tr>\n",
       "      <th>Customer ID</th>\n",
       "      <td>824364.0000</td>\n",
       "      <td>15324.6385</td>\n",
       "      <td>1697.4645</td>\n",
       "      <td>12346.0000</td>\n",
       "      <td>13975.0000</td>\n",
       "      <td>15255.0000</td>\n",
       "      <td>16797.0000</td>\n",
       "      <td>18287.0000</td>\n",
       "    </tr>\n",
       "  </tbody>\n",
       "</table>\n",
       "</div>"
      ],
      "text/plain": [
       "                   count       mean       std         min        25%        50%        75%        max\n",
       "Quantity    1067371.0000     9.9389  172.7058 -80995.0000     1.0000     3.0000    10.0000 80995.0000\n",
       "Price       1067371.0000     4.6494  123.5531 -53594.3600     1.2500     2.1000     4.1500 38970.0000\n",
       "Customer ID  824364.0000 15324.6385 1697.4645  12346.0000 13975.0000 15255.0000 16797.0000 18287.0000"
      ]
     },
     "execution_count": 7,
     "metadata": {},
     "output_type": "execute_result"
    }
   ],
   "source": [
    "df.describe().T"
   ]
  },
  {
   "cell_type": "markdown",
   "id": "001e68dc",
   "metadata": {
    "id": "p1Lb7GUB32pv",
    "papermill": {
     "duration": 0.008572,
     "end_time": "2024-12-05T07:15:58.483756",
     "exception": false,
     "start_time": "2024-12-05T07:15:58.475184",
     "status": "completed"
    },
    "tags": []
   },
   "source": [
    "# Data Preprocessing"
   ]
  },
  {
   "cell_type": "code",
   "execution_count": 8,
   "id": "3d951083",
   "metadata": {
    "execution": {
     "iopub.execute_input": "2024-12-05T07:15:58.503604Z",
     "iopub.status.busy": "2024-12-05T07:15:58.502541Z",
     "iopub.status.idle": "2024-12-05T07:15:58.984717Z",
     "shell.execute_reply": "2024-12-05T07:15:58.983413Z"
    },
    "id": "WcTAne-536EB",
    "papermill": {
     "duration": 0.494668,
     "end_time": "2024-12-05T07:15:58.987162",
     "exception": false,
     "start_time": "2024-12-05T07:15:58.492494",
     "status": "completed"
    },
    "tags": []
   },
   "outputs": [],
   "source": [
    "df.dropna(inplace=True)\n",
    "df = df[df['Quantity']>0]\n",
    "df = df[df['Price']>0]"
   ]
  },
  {
   "cell_type": "code",
   "execution_count": 9,
   "id": "0f5080e0",
   "metadata": {
    "execution": {
     "iopub.execute_input": "2024-12-05T07:15:59.005644Z",
     "iopub.status.busy": "2024-12-05T07:15:59.004839Z",
     "iopub.status.idle": "2024-12-05T07:15:59.104019Z",
     "shell.execute_reply": "2024-12-05T07:15:59.102983Z"
    },
    "id": "iiUp9Fb436Gq",
    "outputId": "1faebd77-10e6-41b5-966d-17d9068d7c1d",
    "papermill": {
     "duration": 0.110775,
     "end_time": "2024-12-05T07:15:59.106322",
     "exception": false,
     "start_time": "2024-12-05T07:15:58.995547",
     "status": "completed"
    },
    "tags": []
   },
   "outputs": [
    {
     "data": {
      "text/html": [
       "<div>\n",
       "<style scoped>\n",
       "    .dataframe tbody tr th:only-of-type {\n",
       "        vertical-align: middle;\n",
       "    }\n",
       "\n",
       "    .dataframe tbody tr th {\n",
       "        vertical-align: top;\n",
       "    }\n",
       "\n",
       "    .dataframe thead th {\n",
       "        text-align: right;\n",
       "    }\n",
       "</style>\n",
       "<table border=\"1\" class=\"dataframe\">\n",
       "  <thead>\n",
       "    <tr style=\"text-align: right;\">\n",
       "      <th></th>\n",
       "      <th>count</th>\n",
       "      <th>mean</th>\n",
       "      <th>std</th>\n",
       "      <th>min</th>\n",
       "      <th>1%</th>\n",
       "      <th>5%</th>\n",
       "      <th>50%</th>\n",
       "      <th>95%</th>\n",
       "      <th>99%</th>\n",
       "      <th>max</th>\n",
       "    </tr>\n",
       "  </thead>\n",
       "  <tbody>\n",
       "    <tr>\n",
       "      <th>Quantity</th>\n",
       "      <td>805549.0000</td>\n",
       "      <td>13.2905</td>\n",
       "      <td>143.6341</td>\n",
       "      <td>1.0000</td>\n",
       "      <td>1.0000</td>\n",
       "      <td>1.0000</td>\n",
       "      <td>5.0000</td>\n",
       "      <td>36.0000</td>\n",
       "      <td>128.0000</td>\n",
       "      <td>80995.0000</td>\n",
       "    </tr>\n",
       "    <tr>\n",
       "      <th>Price</th>\n",
       "      <td>805549.0000</td>\n",
       "      <td>3.2066</td>\n",
       "      <td>29.1992</td>\n",
       "      <td>0.0010</td>\n",
       "      <td>0.2900</td>\n",
       "      <td>0.4200</td>\n",
       "      <td>1.9500</td>\n",
       "      <td>8.5000</td>\n",
       "      <td>14.9500</td>\n",
       "      <td>10953.5000</td>\n",
       "    </tr>\n",
       "    <tr>\n",
       "      <th>Customer ID</th>\n",
       "      <td>805549.0000</td>\n",
       "      <td>15331.9550</td>\n",
       "      <td>1696.7370</td>\n",
       "      <td>12346.0000</td>\n",
       "      <td>12422.0000</td>\n",
       "      <td>12681.0000</td>\n",
       "      <td>15271.0000</td>\n",
       "      <td>17913.0000</td>\n",
       "      <td>18204.0000</td>\n",
       "      <td>18287.0000</td>\n",
       "    </tr>\n",
       "  </tbody>\n",
       "</table>\n",
       "</div>"
      ],
      "text/plain": [
       "                  count       mean       std        min         1%         5%        50%        95%        99%        max\n",
       "Quantity    805549.0000    13.2905  143.6341     1.0000     1.0000     1.0000     5.0000    36.0000   128.0000 80995.0000\n",
       "Price       805549.0000     3.2066   29.1992     0.0010     0.2900     0.4200     1.9500     8.5000    14.9500 10953.5000\n",
       "Customer ID 805549.0000 15331.9550 1696.7370 12346.0000 12422.0000 12681.0000 15271.0000 17913.0000 18204.0000 18287.0000"
      ]
     },
     "execution_count": 9,
     "metadata": {},
     "output_type": "execute_result"
    }
   ],
   "source": [
    "describe_list = [0.01, 0.05, 0.95, 0.99]\n",
    "df.describe(describe_list).T"
   ]
  },
  {
   "cell_type": "markdown",
   "id": "df07fb22",
   "metadata": {
    "id": "kppdnG8u5GlY",
    "papermill": {
     "duration": 0.008201,
     "end_time": "2024-12-05T07:15:59.123068",
     "exception": false,
     "start_time": "2024-12-05T07:15:59.114867",
     "status": "completed"
    },
    "tags": []
   },
   "source": [
    "## Outliers"
   ]
  },
  {
   "cell_type": "code",
   "execution_count": 10,
   "id": "81e03e9c",
   "metadata": {
    "execution": {
     "iopub.execute_input": "2024-12-05T07:15:59.141958Z",
     "iopub.status.busy": "2024-12-05T07:15:59.141148Z",
     "iopub.status.idle": "2024-12-05T07:15:59.198576Z",
     "shell.execute_reply": "2024-12-05T07:15:59.197755Z"
    },
    "id": "rXYt7qcp36Jf",
    "papermill": {
     "duration": 0.069448,
     "end_time": "2024-12-05T07:15:59.200940",
     "exception": false,
     "start_time": "2024-12-05T07:15:59.131492",
     "status": "completed"
    },
    "tags": []
   },
   "outputs": [],
   "source": [
    "def outlier_thresholds(dataframe, variable):\n",
    "    quartile1 = dataframe[variable].quantile(0.01)\n",
    "    quartile3 = dataframe[variable].quantile(0.99)\n",
    "    interquantile_range = quartile3 - quartile1\n",
    "    up_limit = quartile3 + 1.5 * interquantile_range\n",
    "    low_limit = quartile1 - 1.5 * interquantile_range\n",
    "    return low_limit, up_limit\n",
    "\n",
    "\n",
    "def replace_with_thresholds(dataframe, variable):\n",
    "    low_limit, up_limit = outlier_thresholds(dataframe, variable)\n",
    "    dataframe.loc[(dataframe[variable] < low_limit), variable] = low_limit\n",
    "    dataframe.loc[(dataframe[variable] > up_limit), variable] = up_limit\n",
    "\n",
    "replace_with_thresholds(df, 'Quantity')\n",
    "replace_with_thresholds(df, 'Price')"
   ]
  },
  {
   "cell_type": "code",
   "execution_count": 11,
   "id": "6b1977db",
   "metadata": {
    "execution": {
     "iopub.execute_input": "2024-12-05T07:15:59.219428Z",
     "iopub.status.busy": "2024-12-05T07:15:59.219026Z",
     "iopub.status.idle": "2024-12-05T07:15:59.232030Z",
     "shell.execute_reply": "2024-12-05T07:15:59.231161Z"
    },
    "id": "grlufY_Q36Lz",
    "papermill": {
     "duration": 0.024932,
     "end_time": "2024-12-05T07:15:59.234436",
     "exception": false,
     "start_time": "2024-12-05T07:15:59.209504",
     "status": "completed"
    },
    "tags": []
   },
   "outputs": [],
   "source": [
    "df['Total_Price'] = df['Quantity']*df['Price']\n",
    "df['Customer ID'] = df['Customer ID'].astype(int)"
   ]
  },
  {
   "cell_type": "code",
   "execution_count": 12,
   "id": "e84b8b43",
   "metadata": {
    "execution": {
     "iopub.execute_input": "2024-12-05T07:15:59.253250Z",
     "iopub.status.busy": "2024-12-05T07:15:59.252847Z",
     "iopub.status.idle": "2024-12-05T07:15:59.386502Z",
     "shell.execute_reply": "2024-12-05T07:15:59.385393Z"
    },
    "id": "GXdg0Hn26Gd5",
    "outputId": "6b640b16-7d2f-4818-9e79-31f1645f13f1",
    "papermill": {
     "duration": 0.145398,
     "end_time": "2024-12-05T07:15:59.388681",
     "exception": false,
     "start_time": "2024-12-05T07:15:59.243283",
     "status": "completed"
    },
    "tags": []
   },
   "outputs": [
    {
     "data": {
      "text/plain": [
       "Timestamp('2011-12-09 12:50:00')"
      ]
     },
     "execution_count": 12,
     "metadata": {},
     "output_type": "execute_result"
    }
   ],
   "source": [
    "df['InvoiceDate'] = pd.to_datetime(df['InvoiceDate'])\n",
    "df['InvoiceDate'].max()"
   ]
  },
  {
   "cell_type": "code",
   "execution_count": 13,
   "id": "cdccbec2",
   "metadata": {
    "execution": {
     "iopub.execute_input": "2024-12-05T07:15:59.407810Z",
     "iopub.status.busy": "2024-12-05T07:15:59.407434Z",
     "iopub.status.idle": "2024-12-05T07:15:59.412363Z",
     "shell.execute_reply": "2024-12-05T07:15:59.411285Z"
    },
    "id": "n8txfj886KyU",
    "papermill": {
     "duration": 0.017137,
     "end_time": "2024-12-05T07:15:59.414669",
     "exception": false,
     "start_time": "2024-12-05T07:15:59.397532",
     "status": "completed"
    },
    "tags": []
   },
   "outputs": [],
   "source": [
    "#Analysis Date\n",
    "today_date = dt.datetime(2011, 12, 10)"
   ]
  },
  {
   "cell_type": "markdown",
   "id": "81f95f4b",
   "metadata": {
    "id": "LzQQvchQ6doG",
    "papermill": {
     "duration": 0.008272,
     "end_time": "2024-12-05T07:15:59.431824",
     "exception": false,
     "start_time": "2024-12-05T07:15:59.423552",
     "status": "completed"
    },
    "tags": []
   },
   "source": [
    "# Feature Engineering\n",
    "## *Preparing Lifetime Data Structure*\n",
    "\n",
    "\n",
    "*   Recency: Time since last purchase. Weekly. (user specific)\n",
    "*   Tenure: T: Customer age. Weekly. (how long ago was the first purchase made before the analysis date)\n",
    "*   Frequency: total number of repeat purchases (frequency>1)\n",
    "*   Monetary: average earnings per purchase"
   ]
  },
  {
   "cell_type": "markdown",
   "id": "41d589f5",
   "metadata": {
    "id": "-LLPJ0g16sy8",
    "papermill": {
     "duration": 0.008213,
     "end_time": "2024-12-05T07:15:59.448642",
     "exception": false,
     "start_time": "2024-12-05T07:15:59.440429",
     "status": "completed"
    },
    "tags": []
   },
   "source": [
    "\n",
    "\n"
   ]
  },
  {
   "cell_type": "code",
   "execution_count": 14,
   "id": "175d36c4",
   "metadata": {
    "execution": {
     "iopub.execute_input": "2024-12-05T07:15:59.467910Z",
     "iopub.status.busy": "2024-12-05T07:15:59.467501Z",
     "iopub.status.idle": "2024-12-05T07:16:01.436463Z",
     "shell.execute_reply": "2024-12-05T07:16:01.435644Z"
    },
    "id": "jfktp7vA6d31",
    "papermill": {
     "duration": 1.981584,
     "end_time": "2024-12-05T07:16:01.438898",
     "exception": false,
     "start_time": "2024-12-05T07:15:59.457314",
     "status": "completed"
    },
    "tags": []
   },
   "outputs": [],
   "source": [
    "cltv_df = df.groupby('Customer ID').agg({'InvoiceDate':[lambda x: (x.max()- x.min()).days,\n",
    "                                                        lambda x: (today_date - x.min()).days],\n",
    "                                         'Invoice':lambda x: x.nunique(),\n",
    "                                         'Total_Price':lambda x: x.sum()})"
   ]
  },
  {
   "cell_type": "code",
   "execution_count": 15,
   "id": "1609a92c",
   "metadata": {
    "execution": {
     "iopub.execute_input": "2024-12-05T07:16:01.458223Z",
     "iopub.status.busy": "2024-12-05T07:16:01.457129Z",
     "iopub.status.idle": "2024-12-05T07:16:01.470518Z",
     "shell.execute_reply": "2024-12-05T07:16:01.469323Z"
    },
    "id": "z2zlDYLd6d_q",
    "outputId": "0b60a0ca-0319-45dc-ac1d-f27b9634447a",
    "papermill": {
     "duration": 0.024851,
     "end_time": "2024-12-05T07:16:01.472470",
     "exception": false,
     "start_time": "2024-12-05T07:16:01.447619",
     "status": "completed"
    },
    "tags": []
   },
   "outputs": [
    {
     "data": {
      "text/html": [
       "<div>\n",
       "<style scoped>\n",
       "    .dataframe tbody tr th:only-of-type {\n",
       "        vertical-align: middle;\n",
       "    }\n",
       "\n",
       "    .dataframe tbody tr th {\n",
       "        vertical-align: top;\n",
       "    }\n",
       "\n",
       "    .dataframe thead tr th {\n",
       "        text-align: left;\n",
       "    }\n",
       "\n",
       "    .dataframe thead tr:last-of-type th {\n",
       "        text-align: right;\n",
       "    }\n",
       "</style>\n",
       "<table border=\"1\" class=\"dataframe\">\n",
       "  <thead>\n",
       "    <tr>\n",
       "      <th></th>\n",
       "      <th colspan=\"2\" halign=\"left\">InvoiceDate</th>\n",
       "      <th>Invoice</th>\n",
       "      <th>Total_Price</th>\n",
       "    </tr>\n",
       "    <tr>\n",
       "      <th></th>\n",
       "      <th>&lt;lambda_0&gt;</th>\n",
       "      <th>&lt;lambda_1&gt;</th>\n",
       "      <th>&lt;lambda&gt;</th>\n",
       "      <th>&lt;lambda&gt;</th>\n",
       "    </tr>\n",
       "    <tr>\n",
       "      <th>Customer ID</th>\n",
       "      <th></th>\n",
       "      <th></th>\n",
       "      <th></th>\n",
       "      <th></th>\n",
       "    </tr>\n",
       "  </thead>\n",
       "  <tbody>\n",
       "    <tr>\n",
       "      <th>12346</th>\n",
       "      <td>400</td>\n",
       "      <td>725</td>\n",
       "      <td>12</td>\n",
       "      <td>704.1000</td>\n",
       "    </tr>\n",
       "    <tr>\n",
       "      <th>12347</th>\n",
       "      <td>402</td>\n",
       "      <td>404</td>\n",
       "      <td>8</td>\n",
       "      <td>5633.3200</td>\n",
       "    </tr>\n",
       "    <tr>\n",
       "      <th>12348</th>\n",
       "      <td>362</td>\n",
       "      <td>438</td>\n",
       "      <td>5</td>\n",
       "      <td>1991.8600</td>\n",
       "    </tr>\n",
       "    <tr>\n",
       "      <th>12349</th>\n",
       "      <td>570</td>\n",
       "      <td>589</td>\n",
       "      <td>4</td>\n",
       "      <td>3786.5000</td>\n",
       "    </tr>\n",
       "    <tr>\n",
       "      <th>12350</th>\n",
       "      <td>0</td>\n",
       "      <td>310</td>\n",
       "      <td>1</td>\n",
       "      <td>331.3400</td>\n",
       "    </tr>\n",
       "    <tr>\n",
       "      <th>...</th>\n",
       "      <td>...</td>\n",
       "      <td>...</td>\n",
       "      <td>...</td>\n",
       "      <td>...</td>\n",
       "    </tr>\n",
       "    <tr>\n",
       "      <th>18283</th>\n",
       "      <td>654</td>\n",
       "      <td>658</td>\n",
       "      <td>22</td>\n",
       "      <td>2736.6500</td>\n",
       "    </tr>\n",
       "    <tr>\n",
       "      <th>18284</th>\n",
       "      <td>0</td>\n",
       "      <td>431</td>\n",
       "      <td>1</td>\n",
       "      <td>448.6200</td>\n",
       "    </tr>\n",
       "    <tr>\n",
       "      <th>18285</th>\n",
       "      <td>0</td>\n",
       "      <td>660</td>\n",
       "      <td>1</td>\n",
       "      <td>413.9400</td>\n",
       "    </tr>\n",
       "    <tr>\n",
       "      <th>18286</th>\n",
       "      <td>247</td>\n",
       "      <td>723</td>\n",
       "      <td>2</td>\n",
       "      <td>1283.3700</td>\n",
       "    </tr>\n",
       "    <tr>\n",
       "      <th>18287</th>\n",
       "      <td>528</td>\n",
       "      <td>571</td>\n",
       "      <td>7</td>\n",
       "      <td>4169.9300</td>\n",
       "    </tr>\n",
       "  </tbody>\n",
       "</table>\n",
       "<p>5878 rows × 4 columns</p>\n",
       "</div>"
      ],
      "text/plain": [
       "            InvoiceDate             Invoice Total_Price\n",
       "             <lambda_0> <lambda_1> <lambda>    <lambda>\n",
       "Customer ID                                            \n",
       "12346               400        725       12    704.1000\n",
       "12347               402        404        8   5633.3200\n",
       "12348               362        438        5   1991.8600\n",
       "12349               570        589        4   3786.5000\n",
       "12350                 0        310        1    331.3400\n",
       "...                 ...        ...      ...         ...\n",
       "18283               654        658       22   2736.6500\n",
       "18284                 0        431        1    448.6200\n",
       "18285                 0        660        1    413.9400\n",
       "18286               247        723        2   1283.3700\n",
       "18287               528        571        7   4169.9300\n",
       "\n",
       "[5878 rows x 4 columns]"
      ]
     },
     "execution_count": 15,
     "metadata": {},
     "output_type": "execute_result"
    }
   ],
   "source": [
    "cltv_df"
   ]
  },
  {
   "cell_type": "code",
   "execution_count": 16,
   "id": "dcbabc00",
   "metadata": {
    "collapsed": true,
    "execution": {
     "iopub.execute_input": "2024-12-05T07:16:01.492017Z",
     "iopub.status.busy": "2024-12-05T07:16:01.491625Z",
     "iopub.status.idle": "2024-12-05T07:16:01.496738Z",
     "shell.execute_reply": "2024-12-05T07:16:01.495684Z"
    },
    "id": "JjMCntWbCVbT",
    "jupyter": {
     "outputs_hidden": true
    },
    "papermill": {
     "duration": 0.017315,
     "end_time": "2024-12-05T07:16:01.498797",
     "exception": false,
     "start_time": "2024-12-05T07:16:01.481482",
     "status": "completed"
    },
    "tags": []
   },
   "outputs": [],
   "source": [
    "cltv_df.columns = cltv_df.columns.droplevel(0)\n"
   ]
  },
  {
   "cell_type": "code",
   "execution_count": 17,
   "id": "9b589af2",
   "metadata": {
    "execution": {
     "iopub.execute_input": "2024-12-05T07:16:01.517969Z",
     "iopub.status.busy": "2024-12-05T07:16:01.517592Z",
     "iopub.status.idle": "2024-12-05T07:16:01.526060Z",
     "shell.execute_reply": "2024-12-05T07:16:01.525092Z"
    },
    "id": "v6GwykAwCpkr",
    "papermill": {
     "duration": 0.020265,
     "end_time": "2024-12-05T07:16:01.527973",
     "exception": false,
     "start_time": "2024-12-05T07:16:01.507708",
     "status": "completed"
    },
    "tags": []
   },
   "outputs": [],
   "source": [
    "cltv_df.columns = ['recency', 'T', 'frequency', 'monetary']\n",
    "cltv_df[\"monetary\"] = cltv_df[\"monetary\"] / cltv_df[\"frequency\"]\n",
    "cltv_df = cltv_df[(cltv_df['frequency'] > 1)]\n",
    "cltv_df[\"recency\"] = cltv_df[\"recency\"] / 7 #Weekly\n",
    "cltv_df[\"T\"] = cltv_df[\"T\"] / 7 #Weekly"
   ]
  },
  {
   "cell_type": "code",
   "execution_count": 18,
   "id": "7db9f5da",
   "metadata": {
    "execution": {
     "iopub.execute_input": "2024-12-05T07:16:01.547875Z",
     "iopub.status.busy": "2024-12-05T07:16:01.547154Z",
     "iopub.status.idle": "2024-12-05T07:16:01.559097Z",
     "shell.execute_reply": "2024-12-05T07:16:01.558028Z"
    },
    "id": "sLkrb4rKCeAS",
    "outputId": "e271ec73-f8e2-40be-ab75-5c79c8fd9873",
    "papermill": {
     "duration": 0.023908,
     "end_time": "2024-12-05T07:16:01.561144",
     "exception": false,
     "start_time": "2024-12-05T07:16:01.537236",
     "status": "completed"
    },
    "tags": []
   },
   "outputs": [
    {
     "data": {
      "text/html": [
       "<div>\n",
       "<style scoped>\n",
       "    .dataframe tbody tr th:only-of-type {\n",
       "        vertical-align: middle;\n",
       "    }\n",
       "\n",
       "    .dataframe tbody tr th {\n",
       "        vertical-align: top;\n",
       "    }\n",
       "\n",
       "    .dataframe thead th {\n",
       "        text-align: right;\n",
       "    }\n",
       "</style>\n",
       "<table border=\"1\" class=\"dataframe\">\n",
       "  <thead>\n",
       "    <tr style=\"text-align: right;\">\n",
       "      <th></th>\n",
       "      <th>recency</th>\n",
       "      <th>T</th>\n",
       "      <th>frequency</th>\n",
       "      <th>monetary</th>\n",
       "    </tr>\n",
       "    <tr>\n",
       "      <th>Customer ID</th>\n",
       "      <th></th>\n",
       "      <th></th>\n",
       "      <th></th>\n",
       "      <th></th>\n",
       "    </tr>\n",
       "  </thead>\n",
       "  <tbody>\n",
       "    <tr>\n",
       "      <th>12346</th>\n",
       "      <td>57.1429</td>\n",
       "      <td>103.5714</td>\n",
       "      <td>12</td>\n",
       "      <td>58.6750</td>\n",
       "    </tr>\n",
       "    <tr>\n",
       "      <th>12347</th>\n",
       "      <td>57.4286</td>\n",
       "      <td>57.7143</td>\n",
       "      <td>8</td>\n",
       "      <td>704.1650</td>\n",
       "    </tr>\n",
       "    <tr>\n",
       "      <th>12348</th>\n",
       "      <td>51.7143</td>\n",
       "      <td>62.5714</td>\n",
       "      <td>5</td>\n",
       "      <td>398.3720</td>\n",
       "    </tr>\n",
       "    <tr>\n",
       "      <th>12349</th>\n",
       "      <td>81.4286</td>\n",
       "      <td>84.1429</td>\n",
       "      <td>4</td>\n",
       "      <td>946.6250</td>\n",
       "    </tr>\n",
       "    <tr>\n",
       "      <th>12352</th>\n",
       "      <td>50.8571</td>\n",
       "      <td>56.0000</td>\n",
       "      <td>10</td>\n",
       "      <td>209.8940</td>\n",
       "    </tr>\n",
       "    <tr>\n",
       "      <th>...</th>\n",
       "      <td>...</td>\n",
       "      <td>...</td>\n",
       "      <td>...</td>\n",
       "      <td>...</td>\n",
       "    </tr>\n",
       "    <tr>\n",
       "      <th>18281</th>\n",
       "      <td>56.7143</td>\n",
       "      <td>82.4286</td>\n",
       "      <td>2</td>\n",
       "      <td>100.5700</td>\n",
       "    </tr>\n",
       "    <tr>\n",
       "      <th>18282</th>\n",
       "      <td>16.8571</td>\n",
       "      <td>18.0000</td>\n",
       "      <td>2</td>\n",
       "      <td>89.0250</td>\n",
       "    </tr>\n",
       "    <tr>\n",
       "      <th>18283</th>\n",
       "      <td>93.4286</td>\n",
       "      <td>94.0000</td>\n",
       "      <td>22</td>\n",
       "      <td>124.3932</td>\n",
       "    </tr>\n",
       "    <tr>\n",
       "      <th>18286</th>\n",
       "      <td>35.2857</td>\n",
       "      <td>103.2857</td>\n",
       "      <td>2</td>\n",
       "      <td>641.6850</td>\n",
       "    </tr>\n",
       "    <tr>\n",
       "      <th>18287</th>\n",
       "      <td>75.4286</td>\n",
       "      <td>81.5714</td>\n",
       "      <td>7</td>\n",
       "      <td>595.7043</td>\n",
       "    </tr>\n",
       "  </tbody>\n",
       "</table>\n",
       "<p>4255 rows × 4 columns</p>\n",
       "</div>"
      ],
      "text/plain": [
       "             recency        T  frequency  monetary\n",
       "Customer ID                                       \n",
       "12346        57.1429 103.5714         12   58.6750\n",
       "12347        57.4286  57.7143          8  704.1650\n",
       "12348        51.7143  62.5714          5  398.3720\n",
       "12349        81.4286  84.1429          4  946.6250\n",
       "12352        50.8571  56.0000         10  209.8940\n",
       "...              ...      ...        ...       ...\n",
       "18281        56.7143  82.4286          2  100.5700\n",
       "18282        16.8571  18.0000          2   89.0250\n",
       "18283        93.4286  94.0000         22  124.3932\n",
       "18286        35.2857 103.2857          2  641.6850\n",
       "18287        75.4286  81.5714          7  595.7043\n",
       "\n",
       "[4255 rows x 4 columns]"
      ]
     },
     "execution_count": 18,
     "metadata": {},
     "output_type": "execute_result"
    }
   ],
   "source": [
    "cltv_df"
   ]
  },
  {
   "cell_type": "markdown",
   "id": "68c3f510",
   "metadata": {
    "id": "tM5yTwdMDDcV",
    "papermill": {
     "duration": 0.008927,
     "end_time": "2024-12-05T07:16:01.579294",
     "exception": false,
     "start_time": "2024-12-05T07:16:01.570367",
     "status": "completed"
    },
    "tags": []
   },
   "source": [
    "# BG/NBD MODEL"
   ]
  },
  {
   "cell_type": "markdown",
   "id": "7be0fa83",
   "metadata": {
    "id": "CUGUElhUIpRS",
    "papermill": {
     "duration": 0.008705,
     "end_time": "2024-12-05T07:16:01.596877",
     "exception": false,
     "start_time": "2024-12-05T07:16:01.588172",
     "status": "completed"
    },
    "tags": []
   },
   "source": [
    "The Beta-Geometric (BG) model predicts future purchasing behavior through customer purchase frequency and churn probability."
   ]
  },
  {
   "cell_type": "code",
   "execution_count": 19,
   "id": "887fa97f",
   "metadata": {
    "execution": {
     "iopub.execute_input": "2024-12-05T07:16:01.616471Z",
     "iopub.status.busy": "2024-12-05T07:16:01.616080Z",
     "iopub.status.idle": "2024-12-05T07:16:01.756595Z",
     "shell.execute_reply": "2024-12-05T07:16:01.754351Z"
    },
    "id": "O0vnkUZ3DJJy",
    "outputId": "416b0d36-fcf3-43de-ea58-44caa2d70e82",
    "papermill": {
     "duration": 0.154215,
     "end_time": "2024-12-05T07:16:01.760090",
     "exception": false,
     "start_time": "2024-12-05T07:16:01.605875",
     "status": "completed"
    },
    "tags": []
   },
   "outputs": [
    {
     "data": {
      "text/plain": [
       "<lifetimes.BetaGeoFitter: fitted with 4255 subjects, a: 0.23, alpha: 11.20, b: 3.05, r: 1.71>"
      ]
     },
     "execution_count": 19,
     "metadata": {},
     "output_type": "execute_result"
    }
   ],
   "source": [
    "bgf = BetaGeoFitter(penalizer_coef=0.001) #For preventing overfit\n",
    "bgf.fit(cltv_df['frequency'],\n",
    "        cltv_df['recency'],\n",
    "        cltv_df['T'])"
   ]
  },
  {
   "cell_type": "code",
   "execution_count": 20,
   "id": "34e52de0",
   "metadata": {
    "execution": {
     "iopub.execute_input": "2024-12-05T07:16:01.820412Z",
     "iopub.status.busy": "2024-12-05T07:16:01.818337Z",
     "iopub.status.idle": "2024-12-05T07:16:01.855564Z",
     "shell.execute_reply": "2024-12-05T07:16:01.851286Z"
    },
    "id": "un2E6ne2EIOw",
    "outputId": "c73b7e60-d787-45ff-9239-573f18f373f0",
    "papermill": {
     "duration": 0.072243,
     "end_time": "2024-12-05T07:16:01.860003",
     "exception": false,
     "start_time": "2024-12-05T07:16:01.787760",
     "status": "completed"
    },
    "tags": []
   },
   "outputs": [
    {
     "data": {
      "text/plain": [
       "Customer ID\n",
       "14911   3.4206\n",
       "12748   2.9004\n",
       "17841   1.8209\n",
       "15311   1.7944\n",
       "13089   1.7514\n",
       "dtype: float64"
      ]
     },
     "execution_count": 20,
     "metadata": {},
     "output_type": "execute_result"
    }
   ],
   "source": [
    "#Who are the 5 customers we expect to purchase the most from in 1 week?\n",
    "bgf.conditional_expected_number_of_purchases_up_to_time(1,\n",
    "                                                        cltv_df['frequency'],\n",
    "                                                        cltv_df['recency'],\n",
    "                                                        cltv_df['T']).sort_values(ascending=False).head()"
   ]
  },
  {
   "cell_type": "code",
   "execution_count": 21,
   "id": "b2f45be7",
   "metadata": {
    "execution": {
     "iopub.execute_input": "2024-12-05T07:16:01.886800Z",
     "iopub.status.busy": "2024-12-05T07:16:01.886430Z",
     "iopub.status.idle": "2024-12-05T07:16:01.899018Z",
     "shell.execute_reply": "2024-12-05T07:16:01.897946Z"
    },
    "id": "d_Fb9X2QDLFe",
    "papermill": {
     "duration": 0.026094,
     "end_time": "2024-12-05T07:16:01.901481",
     "exception": false,
     "start_time": "2024-12-05T07:16:01.875387",
     "status": "completed"
    },
    "tags": []
   },
   "outputs": [],
   "source": [
    "cltv_df[\"expected_purc_1_week\"] = bgf.predict(1,\n",
    "                                              cltv_df['frequency'],\n",
    "                                              cltv_df['recency'],\n",
    "                                              cltv_df['T'])"
   ]
  },
  {
   "cell_type": "code",
   "execution_count": 22,
   "id": "e548657e",
   "metadata": {
    "execution": {
     "iopub.execute_input": "2024-12-05T07:16:01.922434Z",
     "iopub.status.busy": "2024-12-05T07:16:01.922010Z",
     "iopub.status.idle": "2024-12-05T07:16:01.937419Z",
     "shell.execute_reply": "2024-12-05T07:16:01.936364Z"
    },
    "id": "HOeleBbeDJMw",
    "outputId": "d138b4a1-b50c-492a-b18f-7c3cf72c0c4f",
    "papermill": {
     "duration": 0.028443,
     "end_time": "2024-12-05T07:16:01.939325",
     "exception": false,
     "start_time": "2024-12-05T07:16:01.910882",
     "status": "completed"
    },
    "tags": []
   },
   "outputs": [
    {
     "data": {
      "text/plain": [
       "Customer ID\n",
       "14911   13.6421\n",
       "12748   11.5673\n",
       "17841    7.2622\n",
       "15311    7.1563\n",
       "13089    6.9850\n",
       "dtype: float64"
      ]
     },
     "execution_count": 22,
     "metadata": {},
     "output_type": "execute_result"
    }
   ],
   "source": [
    "#Who are the 5 customers we expect to purchase the most from in 1 month?\n",
    "#conditional_expected_number_of_purchases_up_to_time = predict\n",
    "bgf.predict(4, #4 week =1 month\n",
    "            cltv_df['frequency'],\n",
    "            cltv_df['recency'],\n",
    "            cltv_df['T']).sort_values(ascending=False).head()"
   ]
  },
  {
   "cell_type": "code",
   "execution_count": 23,
   "id": "9afa10fd",
   "metadata": {
    "execution": {
     "iopub.execute_input": "2024-12-05T07:16:01.959908Z",
     "iopub.status.busy": "2024-12-05T07:16:01.959537Z",
     "iopub.status.idle": "2024-12-05T07:16:01.971929Z",
     "shell.execute_reply": "2024-12-05T07:16:01.971057Z"
    },
    "id": "DaM3ARQaFH_k",
    "papermill": {
     "duration": 0.025274,
     "end_time": "2024-12-05T07:16:01.974056",
     "exception": false,
     "start_time": "2024-12-05T07:16:01.948782",
     "status": "completed"
    },
    "tags": []
   },
   "outputs": [],
   "source": [
    "cltv_df[\"expected_purc_1_month\"] = bgf.predict(4,\n",
    "                                               cltv_df['frequency'],\n",
    "                                               cltv_df['recency'],\n",
    "                                               cltv_df['T'])"
   ]
  },
  {
   "cell_type": "code",
   "execution_count": 24,
   "id": "c541b2df",
   "metadata": {
    "execution": {
     "iopub.execute_input": "2024-12-05T07:16:01.995693Z",
     "iopub.status.busy": "2024-12-05T07:16:01.994935Z",
     "iopub.status.idle": "2024-12-05T07:16:02.009559Z",
     "shell.execute_reply": "2024-12-05T07:16:02.008537Z"
    },
    "id": "SLPn54P4FIEx",
    "outputId": "61624639-7dd4-498d-fc4c-9fa2d1c07201",
    "papermill": {
     "duration": 0.02798,
     "end_time": "2024-12-05T07:16:02.011862",
     "exception": false,
     "start_time": "2024-12-05T07:16:01.983882",
     "status": "completed"
    },
    "tags": []
   },
   "outputs": [
    {
     "data": {
      "text/plain": [
       "1728.0957566251843"
      ]
     },
     "execution_count": 24,
     "metadata": {},
     "output_type": "execute_result"
    }
   ],
   "source": [
    "#What is the total purchase estimate in 1 month?\n",
    "bgf.predict(4,\n",
    "            cltv_df['frequency'],\n",
    "            cltv_df['recency'],\n",
    "            cltv_df['T']).sum()"
   ]
  },
  {
   "cell_type": "markdown",
   "id": "fafb6689",
   "metadata": {
    "papermill": {
     "duration": 0.009435,
     "end_time": "2024-12-05T07:16:02.031368",
     "exception": false,
     "start_time": "2024-12-05T07:16:02.021933",
     "status": "completed"
    },
    "tags": []
   },
   "source": [
    "# Evaluation of Forecast Results"
   ]
  },
  {
   "cell_type": "code",
   "execution_count": 25,
   "id": "7e8b5a0a",
   "metadata": {
    "execution": {
     "iopub.execute_input": "2024-12-05T07:16:02.053240Z",
     "iopub.status.busy": "2024-12-05T07:16:02.052347Z",
     "iopub.status.idle": "2024-12-05T07:16:03.053641Z",
     "shell.execute_reply": "2024-12-05T07:16:03.052523Z"
    },
    "id": "EDsXoqUPFIG4",
    "outputId": "67b53bef-46ec-4411-8f2b-c5d087116608",
    "papermill": {
     "duration": 1.014506,
     "end_time": "2024-12-05T07:16:03.055747",
     "exception": false,
     "start_time": "2024-12-05T07:16:02.041241",
     "status": "completed"
    },
    "tags": []
   },
   "outputs": [
    {
     "data": {
      "image/png": "[encoded data removed]",
      "text/plain": [
       "<Figure size 640x480 with 1 Axes>"
      ]
     },
     "metadata": {},
     "output_type": "display_data"
    }
   ],
   "source": [
    "plot_period_transactions(bgf)\n",
    "plt.show()"
   ]
  },
  {
   "cell_type": "markdown",
   "id": "0f6a9b65",
   "metadata": {
    "id": "cCnlhBu8GkCC",
    "papermill": {
     "duration": 0.010642,
     "end_time": "2024-12-05T07:16:03.078195",
     "exception": false,
     "start_time": "2024-12-05T07:16:03.067553",
     "status": "completed"
    },
    "tags": []
   },
   "source": [
    "# GAMMA-GAMMA MODEL"
   ]
  },
  {
   "cell_type": "markdown",
   "id": "a300f158",
   "metadata": {
    "id": "rCq2t4MpHpNA",
    "papermill": {
     "duration": 0.009991,
     "end_time": "2024-12-05T07:16:03.098366",
     "exception": false,
     "start_time": "2024-12-05T07:16:03.088375",
     "status": "completed"
    },
    "tags": []
   },
   "source": [
    "The Gamma-Gamma model analyzes customers' spending behavior through purchase frequency and average earnings.\n",
    "\n",
    "Gamma-Gamma Model >> Frequency and Average Earnings per Purchase\n"
   ]
  },
  {
   "cell_type": "code",
   "execution_count": 26,
   "id": "7170cfa7",
   "metadata": {
    "execution": {
     "iopub.execute_input": "2024-12-05T07:16:03.121069Z",
     "iopub.status.busy": "2024-12-05T07:16:03.120122Z",
     "iopub.status.idle": "2024-12-05T07:16:03.187712Z",
     "shell.execute_reply": "2024-12-05T07:16:03.186416Z"
    },
    "id": "R90NBlddGljP",
    "outputId": "0760f703-ed24-4e46-b0da-579702066838",
    "papermill": {
     "duration": 0.083285,
     "end_time": "2024-12-05T07:16:03.191899",
     "exception": false,
     "start_time": "2024-12-05T07:16:03.108614",
     "status": "completed"
    },
    "tags": []
   },
   "outputs": [
    {
     "data": {
      "text/plain": [
       "Customer ID\n",
       "12357   6182.8322\n",
       "12590   5035.2460\n",
       "12415   5034.5651\n",
       "14091   4997.1846\n",
       "14088   4029.9276\n",
       "dtype: float64"
      ]
     },
     "execution_count": 26,
     "metadata": {},
     "output_type": "execute_result"
    }
   ],
   "source": [
    "ggf = GammaGammaFitter(penalizer_coef=0.01)\n",
    "ggf.fit(cltv_df['frequency'], cltv_df['monetary'])\n",
    "ggf.conditional_expected_average_profit(cltv_df['frequency'], cltv_df['monetary']).sort_values(ascending=False).head(5)"
   ]
  },
  {
   "cell_type": "code",
   "execution_count": 27,
   "id": "d06262fb",
   "metadata": {
    "execution": {
     "iopub.execute_input": "2024-12-05T07:16:03.256264Z",
     "iopub.status.busy": "2024-12-05T07:16:03.255004Z",
     "iopub.status.idle": "2024-12-05T07:16:03.265963Z",
     "shell.execute_reply": "2024-12-05T07:16:03.264593Z"
    },
    "id": "aMHWSXO-Glp5",
    "papermill": {
     "duration": 0.046434,
     "end_time": "2024-12-05T07:16:03.269408",
     "exception": false,
     "start_time": "2024-12-05T07:16:03.222974",
     "status": "completed"
    },
    "tags": []
   },
   "outputs": [],
   "source": [
    "cltv_df['expected_average_profit'] = ggf.conditional_expected_average_profit(cltv_df['frequency'],\n",
    "                                                                             cltv_df['monetary'])"
   ]
  },
  {
   "cell_type": "markdown",
   "id": "bb4df155",
   "metadata": {
    "id": "HV2bFa9hI-Px",
    "papermill": {
     "duration": 0.010819,
     "end_time": "2024-12-05T07:16:03.308763",
     "exception": false,
     "start_time": "2024-12-05T07:16:03.297944",
     "status": "completed"
    },
    "tags": []
   },
   "source": [
    "# Calculation of Customer Lifetime Valur with BG-NBD and GG model."
   ]
  },
  {
   "cell_type": "code",
   "execution_count": 28,
   "id": "998fd965",
   "metadata": {
    "execution": {
     "iopub.execute_input": "2024-12-05T07:16:03.331687Z",
     "iopub.status.busy": "2024-12-05T07:16:03.330582Z",
     "iopub.status.idle": "2024-12-05T07:16:03.379931Z",
     "shell.execute_reply": "2024-12-05T07:16:03.378935Z"
    },
    "id": "5aPhRpguGl0y",
    "outputId": "db33c512-6b4d-4103-ed75-7c64931de43b",
    "papermill": {
     "duration": 0.063124,
     "end_time": "2024-12-05T07:16:03.382181",
     "exception": false,
     "start_time": "2024-12-05T07:16:03.319057",
     "status": "completed"
    },
    "tags": []
   },
   "outputs": [
    {
     "data": {
      "text/plain": [
       "Customer ID\n",
       "12346      4.2268\n",
       "12347   1241.3282\n",
       "12348    430.2993\n",
       "12349    714.7248\n",
       "12352    444.9096\n",
       "Name: clv, dtype: float64"
      ]
     },
     "execution_count": 28,
     "metadata": {},
     "output_type": "execute_result"
    }
   ],
   "source": [
    "cltv = ggf.customer_lifetime_value(bgf,\n",
    "                                   cltv_df['frequency'],\n",
    "                                   cltv_df['recency'],\n",
    "                                   cltv_df['T'],\n",
    "                                   cltv_df['monetary'],\n",
    "                                   time=3, #3 months\n",
    "                                   freq='W', #weekly,\n",
    "                                   discount_rate=0.01)\n",
    "cltv.head()"
   ]
  },
  {
   "cell_type": "code",
   "execution_count": 29,
   "id": "40be50dd",
   "metadata": {
    "execution": {
     "iopub.execute_input": "2024-12-05T07:16:03.405762Z",
     "iopub.status.busy": "2024-12-05T07:16:03.404857Z",
     "iopub.status.idle": "2024-12-05T07:16:03.421105Z",
     "shell.execute_reply": "2024-12-05T07:16:03.420058Z"
    },
    "id": "gbdBMCUGGl4C",
    "outputId": "3ec77aa8-479f-4564-ab52-85a772ab9fd5",
    "papermill": {
     "duration": 0.030365,
     "end_time": "2024-12-05T07:16:03.423063",
     "exception": false,
     "start_time": "2024-12-05T07:16:03.392698",
     "status": "completed"
    },
    "tags": []
   },
   "outputs": [
    {
     "data": {
      "text/html": [
       "<div>\n",
       "<style scoped>\n",
       "    .dataframe tbody tr th:only-of-type {\n",
       "        vertical-align: middle;\n",
       "    }\n",
       "\n",
       "    .dataframe tbody tr th {\n",
       "        vertical-align: top;\n",
       "    }\n",
       "\n",
       "    .dataframe thead th {\n",
       "        text-align: right;\n",
       "    }\n",
       "</style>\n",
       "<table border=\"1\" class=\"dataframe\">\n",
       "  <thead>\n",
       "    <tr style=\"text-align: right;\">\n",
       "      <th></th>\n",
       "      <th>Customer ID</th>\n",
       "      <th>clv</th>\n",
       "      <th>recency</th>\n",
       "      <th>T</th>\n",
       "      <th>frequency</th>\n",
       "      <th>monetary</th>\n",
       "      <th>expected_purc_1_week</th>\n",
       "      <th>expected_purc_1_month</th>\n",
       "      <th>expected_average_profit</th>\n",
       "    </tr>\n",
       "  </thead>\n",
       "  <tbody>\n",
       "    <tr>\n",
       "      <th>4139</th>\n",
       "      <td>18102</td>\n",
       "      <td>59139.1717</td>\n",
       "      <td>105.4286</td>\n",
       "      <td>105.4286</td>\n",
       "      <td>145</td>\n",
       "      <td>3726.6687</td>\n",
       "      <td>1.2547</td>\n",
       "      <td>5.0041</td>\n",
       "      <td>3731.1484</td>\n",
       "    </tr>\n",
       "    <tr>\n",
       "      <th>1652</th>\n",
       "      <td>14646</td>\n",
       "      <td>55553.9211</td>\n",
       "      <td>105.0000</td>\n",
       "      <td>105.2857</td>\n",
       "      <td>151</td>\n",
       "      <td>3361.4186</td>\n",
       "      <td>1.3068</td>\n",
       "      <td>5.2118</td>\n",
       "      <td>3365.3009</td>\n",
       "    </tr>\n",
       "    <tr>\n",
       "      <th>1290</th>\n",
       "      <td>14156</td>\n",
       "      <td>32189.2762</td>\n",
       "      <td>104.0000</td>\n",
       "      <td>105.4286</td>\n",
       "      <td>156</td>\n",
       "      <td>1903.5948</td>\n",
       "      <td>1.3371</td>\n",
       "      <td>5.3326</td>\n",
       "      <td>1905.7332</td>\n",
       "    </tr>\n",
       "    <tr>\n",
       "      <th>1840</th>\n",
       "      <td>14911</td>\n",
       "      <td>30666.7566</td>\n",
       "      <td>105.2857</td>\n",
       "      <td>105.4286</td>\n",
       "      <td>398</td>\n",
       "      <td>709.3988</td>\n",
       "      <td>3.4206</td>\n",
       "      <td>13.6421</td>\n",
       "      <td>709.7169</td>\n",
       "    </tr>\n",
       "    <tr>\n",
       "      <th>3682</th>\n",
       "      <td>17450</td>\n",
       "      <td>29636.9648</td>\n",
       "      <td>61.2857</td>\n",
       "      <td>62.5714</td>\n",
       "      <td>51</td>\n",
       "      <td>3334.3318</td>\n",
       "      <td>0.7056</td>\n",
       "      <td>2.8093</td>\n",
       "      <td>3345.7601</td>\n",
       "    </tr>\n",
       "  </tbody>\n",
       "</table>\n",
       "</div>"
      ],
      "text/plain": [
       "      Customer ID        clv  recency        T  frequency  monetary  expected_purc_1_week  expected_purc_1_month  expected_average_profit\n",
       "4139        18102 59139.1717 105.4286 105.4286        145 3726.6687                1.2547                 5.0041                3731.1484\n",
       "1652        14646 55553.9211 105.0000 105.2857        151 3361.4186                1.3068                 5.2118                3365.3009\n",
       "1290        14156 32189.2762 104.0000 105.4286        156 1903.5948                1.3371                 5.3326                1905.7332\n",
       "1840        14911 30666.7566 105.2857 105.4286        398  709.3988                3.4206                13.6421                 709.7169\n",
       "3682        17450 29636.9648  61.2857  62.5714         51 3334.3318                0.7056                 2.8093                3345.7601"
      ]
     },
     "execution_count": 29,
     "metadata": {},
     "output_type": "execute_result"
    }
   ],
   "source": [
    "cltv= cltv.reset_index()\n",
    "cltv_final = cltv.merge(cltv_df, how='right', on='Customer ID')\n",
    "cltv_final.sort_values(by=\"clv\", ascending=False).head()"
   ]
  },
  {
   "cell_type": "markdown",
   "id": "197cefe3",
   "metadata": {
    "id": "vUM__3WQLIcF",
    "papermill": {
     "duration": 0.010476,
     "end_time": "2024-12-05T07:16:03.444583",
     "exception": false,
     "start_time": "2024-12-05T07:16:03.434107",
     "status": "completed"
    },
    "tags": []
   },
   "source": [
    "# Customer Segmentation Based on CLTV"
   ]
  },
  {
   "cell_type": "code",
   "execution_count": 30,
   "id": "a2441cb5",
   "metadata": {
    "execution": {
     "iopub.execute_input": "2024-12-05T07:16:03.467993Z",
     "iopub.status.busy": "2024-12-05T07:16:03.467074Z",
     "iopub.status.idle": "2024-12-05T07:16:03.476332Z",
     "shell.execute_reply": "2024-12-05T07:16:03.475372Z"
    },
    "id": "63XluSQvLQfz",
    "papermill": {
     "duration": 0.023035,
     "end_time": "2024-12-05T07:16:03.478298",
     "exception": false,
     "start_time": "2024-12-05T07:16:03.455263",
     "status": "completed"
    },
    "tags": []
   },
   "outputs": [],
   "source": [
    "cltv_final['segment'] = pd.qcut(cltv_final['clv'], 4, labels=['D', 'C', 'B', 'A'])"
   ]
  },
  {
   "cell_type": "code",
   "execution_count": 31,
   "id": "9f352d3b",
   "metadata": {
    "execution": {
     "iopub.execute_input": "2024-12-05T07:16:03.502128Z",
     "iopub.status.busy": "2024-12-05T07:16:03.501721Z",
     "iopub.status.idle": "2024-12-05T07:16:03.543010Z",
     "shell.execute_reply": "2024-12-05T07:16:03.541985Z"
    },
    "id": "Bl05inC1y5qD",
    "outputId": "7d8b74c3-4f6f-43ee-8a98-c187c5fdbe56",
    "papermill": {
     "duration": 0.055842,
     "end_time": "2024-12-05T07:16:03.545228",
     "exception": false,
     "start_time": "2024-12-05T07:16:03.489386",
     "status": "completed"
    },
    "tags": []
   },
   "outputs": [
    {
     "data": {
      "text/html": [
       "<div>\n",
       "<style scoped>\n",
       "    .dataframe tbody tr th:only-of-type {\n",
       "        vertical-align: middle;\n",
       "    }\n",
       "\n",
       "    .dataframe tbody tr th {\n",
       "        vertical-align: top;\n",
       "    }\n",
       "\n",
       "    .dataframe thead tr th {\n",
       "        text-align: left;\n",
       "    }\n",
       "\n",
       "    .dataframe thead tr:last-of-type th {\n",
       "        text-align: right;\n",
       "    }\n",
       "</style>\n",
       "<table border=\"1\" class=\"dataframe\">\n",
       "  <thead>\n",
       "    <tr>\n",
       "      <th></th>\n",
       "      <th colspan=\"3\" halign=\"left\">Customer ID</th>\n",
       "      <th colspan=\"3\" halign=\"left\">clv</th>\n",
       "      <th colspan=\"3\" halign=\"left\">recency</th>\n",
       "      <th colspan=\"3\" halign=\"left\">T</th>\n",
       "      <th colspan=\"3\" halign=\"left\">frequency</th>\n",
       "      <th colspan=\"3\" halign=\"left\">monetary</th>\n",
       "      <th colspan=\"3\" halign=\"left\">expected_purc_1_week</th>\n",
       "      <th colspan=\"3\" halign=\"left\">expected_purc_1_month</th>\n",
       "      <th colspan=\"3\" halign=\"left\">expected_average_profit</th>\n",
       "    </tr>\n",
       "    <tr>\n",
       "      <th></th>\n",
       "      <th>sum</th>\n",
       "      <th>mean</th>\n",
       "      <th>count</th>\n",
       "      <th>sum</th>\n",
       "      <th>mean</th>\n",
       "      <th>count</th>\n",
       "      <th>sum</th>\n",
       "      <th>mean</th>\n",
       "      <th>count</th>\n",
       "      <th>sum</th>\n",
       "      <th>mean</th>\n",
       "      <th>count</th>\n",
       "      <th>sum</th>\n",
       "      <th>mean</th>\n",
       "      <th>count</th>\n",
       "      <th>sum</th>\n",
       "      <th>mean</th>\n",
       "      <th>count</th>\n",
       "      <th>sum</th>\n",
       "      <th>mean</th>\n",
       "      <th>count</th>\n",
       "      <th>sum</th>\n",
       "      <th>mean</th>\n",
       "      <th>count</th>\n",
       "      <th>sum</th>\n",
       "      <th>mean</th>\n",
       "      <th>count</th>\n",
       "    </tr>\n",
       "    <tr>\n",
       "      <th>segment</th>\n",
       "      <th></th>\n",
       "      <th></th>\n",
       "      <th></th>\n",
       "      <th></th>\n",
       "      <th></th>\n",
       "      <th></th>\n",
       "      <th></th>\n",
       "      <th></th>\n",
       "      <th></th>\n",
       "      <th></th>\n",
       "      <th></th>\n",
       "      <th></th>\n",
       "      <th></th>\n",
       "      <th></th>\n",
       "      <th></th>\n",
       "      <th></th>\n",
       "      <th></th>\n",
       "      <th></th>\n",
       "      <th></th>\n",
       "      <th></th>\n",
       "      <th></th>\n",
       "      <th></th>\n",
       "      <th></th>\n",
       "      <th></th>\n",
       "      <th></th>\n",
       "      <th></th>\n",
       "      <th></th>\n",
       "    </tr>\n",
       "  </thead>\n",
       "  <tbody>\n",
       "    <tr>\n",
       "      <th>D</th>\n",
       "      <td>16391893</td>\n",
       "      <td>15405.9145</td>\n",
       "      <td>1064</td>\n",
       "      <td>34662.8542</td>\n",
       "      <td>32.5779</td>\n",
       "      <td>1064</td>\n",
       "      <td>29869.1429</td>\n",
       "      <td>28.0725</td>\n",
       "      <td>1064</td>\n",
       "      <td>86866.5714</td>\n",
       "      <td>81.6415</td>\n",
       "      <td>1064</td>\n",
       "      <td>4226</td>\n",
       "      <td>3.9718</td>\n",
       "      <td>1064</td>\n",
       "      <td>269976.3090</td>\n",
       "      <td>253.7371</td>\n",
       "      <td>1064</td>\n",
       "      <td>16.0434</td>\n",
       "      <td>0.0151</td>\n",
       "      <td>1064</td>\n",
       "      <td>63.9188</td>\n",
       "      <td>0.0601</td>\n",
       "      <td>1064</td>\n",
       "      <td>289387.2062</td>\n",
       "      <td>271.9805</td>\n",
       "      <td>1064</td>\n",
       "    </tr>\n",
       "    <tr>\n",
       "      <th>C</th>\n",
       "      <td>16484923</td>\n",
       "      <td>15493.3487</td>\n",
       "      <td>1064</td>\n",
       "      <td>191417.4498</td>\n",
       "      <td>179.9036</td>\n",
       "      <td>1064</td>\n",
       "      <td>63463.8571</td>\n",
       "      <td>59.6465</td>\n",
       "      <td>1064</td>\n",
       "      <td>80555.4286</td>\n",
       "      <td>75.7100</td>\n",
       "      <td>1064</td>\n",
       "      <td>4835</td>\n",
       "      <td>4.5442</td>\n",
       "      <td>1064</td>\n",
       "      <td>279312.7390</td>\n",
       "      <td>262.5120</td>\n",
       "      <td>1064</td>\n",
       "      <td>66.4381</td>\n",
       "      <td>0.0624</td>\n",
       "      <td>1064</td>\n",
       "      <td>264.4574</td>\n",
       "      <td>0.2486</td>\n",
       "      <td>1064</td>\n",
       "      <td>296513.1530</td>\n",
       "      <td>278.6778</td>\n",
       "      <td>1064</td>\n",
       "    </tr>\n",
       "    <tr>\n",
       "      <th>B</th>\n",
       "      <td>16226708</td>\n",
       "      <td>15265.0122</td>\n",
       "      <td>1063</td>\n",
       "      <td>436084.7647</td>\n",
       "      <td>410.2397</td>\n",
       "      <td>1063</td>\n",
       "      <td>67088.1429</td>\n",
       "      <td>63.1121</td>\n",
       "      <td>1063</td>\n",
       "      <td>75515.2857</td>\n",
       "      <td>71.0398</td>\n",
       "      <td>1063</td>\n",
       "      <td>7733</td>\n",
       "      <td>7.2747</td>\n",
       "      <td>1063</td>\n",
       "      <td>373780.4297</td>\n",
       "      <td>351.6279</td>\n",
       "      <td>1063</td>\n",
       "      <td>112.9679</td>\n",
       "      <td>0.1063</td>\n",
       "      <td>1063</td>\n",
       "      <td>449.3528</td>\n",
       "      <td>0.4227</td>\n",
       "      <td>1063</td>\n",
       "      <td>390119.6290</td>\n",
       "      <td>366.9987</td>\n",
       "      <td>1063</td>\n",
       "    </tr>\n",
       "    <tr>\n",
       "      <th>A</th>\n",
       "      <td>16039842</td>\n",
       "      <td>15075.0395</td>\n",
       "      <td>1064</td>\n",
       "      <td>1755556.9932</td>\n",
       "      <td>1649.9596</td>\n",
       "      <td>1064</td>\n",
       "      <td>68839.7143</td>\n",
       "      <td>64.6990</td>\n",
       "      <td>1064</td>\n",
       "      <td>73061.5714</td>\n",
       "      <td>68.6669</td>\n",
       "      <td>1064</td>\n",
       "      <td>18552</td>\n",
       "      <td>17.4361</td>\n",
       "      <td>1064</td>\n",
       "      <td>631554.0525</td>\n",
       "      <td>593.5658</td>\n",
       "      <td>1064</td>\n",
       "      <td>239.0323</td>\n",
       "      <td>0.2247</td>\n",
       "      <td>1064</td>\n",
       "      <td>950.3668</td>\n",
       "      <td>0.8932</td>\n",
       "      <td>1064</td>\n",
       "      <td>650046.4289</td>\n",
       "      <td>610.9459</td>\n",
       "      <td>1064</td>\n",
       "    </tr>\n",
       "  </tbody>\n",
       "</table>\n",
       "</div>"
      ],
      "text/plain": [
       "        Customer ID                           clv                    recency                        T               frequency                  monetary                expected_purc_1_week              expected_purc_1_month              expected_average_profit               \n",
       "                sum       mean count          sum      mean count        sum    mean count        sum    mean count       sum    mean count         sum     mean count                  sum   mean count                   sum   mean count                     sum     mean count\n",
       "segment                                                                                                                                                                                                                                                                           \n",
       "D          16391893 15405.9145  1064   34662.8542   32.5779  1064 29869.1429 28.0725  1064 86866.5714 81.6415  1064      4226  3.9718  1064 269976.3090 253.7371  1064              16.0434 0.0151  1064               63.9188 0.0601  1064             289387.2062 271.9805  1064\n",
       "C          16484923 15493.3487  1064  191417.4498  179.9036  1064 63463.8571 59.6465  1064 80555.4286 75.7100  1064      4835  4.5442  1064 279312.7390 262.5120  1064              66.4381 0.0624  1064              264.4574 0.2486  1064             296513.1530 278.6778  1064\n",
       "B          16226708 15265.0122  1063  436084.7647  410.2397  1063 67088.1429 63.1121  1063 75515.2857 71.0398  1063      7733  7.2747  1063 373780.4297 351.6279  1063             112.9679 0.1063  1063              449.3528 0.4227  1063             390119.6290 366.9987  1063\n",
       "A          16039842 15075.0395  1064 1755556.9932 1649.9596  1064 68839.7143 64.6990  1064 73061.5714 68.6669  1064     18552 17.4361  1064 631554.0525 593.5658  1064             239.0323 0.2247  1064              950.3668 0.8932  1064             650046.4289 610.9459  1064"
      ]
     },
     "execution_count": 31,
     "metadata": {},
     "output_type": "execute_result"
    }
   ],
   "source": [
    "cltv_final.groupby('segment').agg({'count', 'mean', 'sum'})"
   ]
  }
 ],
 "metadata": {
  "colab": {
   "provenance": []
  },
  "kaggle": {
   "accelerator": "none",
   "dataSources": [
    {
     "datasetId": 430934,
     "sourceId": 821251,
     "sourceType": "datasetVersion"
    },
    {
     "datasetId": 6234325,
     "sourceId": 10106573,
     "sourceType": "datasetVersion"
    }
   ],
   "isGpuEnabled": false,
   "isInternetEnabled": true,
   "language": "python",
   "sourceType": "notebook"
  },
  "kernelspec": {
   "display_name": "Python 3",
   "name": "python3"
  },
  "language_info": {
   "codemirror_mode": {
    "name": "ipython",
    "version": 3
   },
   "file_extension": ".py",
   "mimetype": "text/x-python",
   "name": "python",
   "nbconvert_exporter": "python",
   "pygments_lexer": "ipython3",
   "version": "3.10.14"
  },
  "papermill": {
   "default_parameters": {},
   "duration": 25.474535,
   "end_time": "2024-12-05T07:16:04.278322",
   "environment_variables": {},
   "exception": null,
   "input_path": "__notebook__.ipynb",
   "output_path": "__notebook__.ipynb",
   "parameters": {},
   "start_time": "2024-12-05T07:15:38.803787",
   "version": "2.6.0"
  }
 },
 "nbformat": 4,
 "nbformat_minor": 5
}
